{
 "cells": [
  {
   "cell_type": "markdown",
   "id": "b2e07294",
   "metadata": {},
   "source": [
    "is_prime = n/int = float\n",
    "\n",
    "take number in\n",
    "\n",
    "if number divisible by int\n",
    "return is not prime\n",
    "\n",
    "\n"
   ]
  },
  {
   "cell_type": "code",
   "execution_count": null,
   "id": "bd3c163d",
   "metadata": {},
   "outputs": [],
   "source": [
    "guess = input(\"Please enter a number: \")\n",
    "\n",
    "\n",
    "given = int(guess)\n",
    "x = given / 2\n",
    "x\n",
    "\n",
    "#gives float"
   ]
  },
  {
   "cell_type": "code",
   "execution_count": 15,
   "id": "899d4c81",
   "metadata": {},
   "outputs": [
    {
     "name": "stdout",
     "output_type": "stream",
     "text": [
      "Please enter a number: 56\n",
      "Number is not prime!\n"
     ]
    }
   ],
   "source": [
    "number = input(\"Please enter a number: \") # take input\n",
    "\n",
    "inp = int(number)\n",
    "\n",
    "#use first 4 primes to produce float\n",
    "\n",
    "inp_2 = inp / 2\n",
    "inp_3 = inp / 3\n",
    "inp_5 = inp / 5\n",
    "inp_7 = inp / 7\n",
    "\n",
    "\n",
    "if inp == 0 or inp == 1:\n",
    "    print(\"Number is not prime!\")\n",
    "#base cases, incase first 4 primes inputted. These 4 cover all divisors\n",
    "\n",
    "elif inp_2 == 1 or inp_3 == 1 or inp_5 == 1 or inp_7 == 1:\n",
    "    print(\"Number is prime!\")\n",
    "\n",
    "# take float and find if int\n",
    "    \n",
    "elif inp_2.is_integer():\n",
    "    print(\"Number is not prime!\")\n",
    "elif inp_3.is_integer():\n",
    "    print(\"Number is not prime!\")\n",
    "elif inp_5.is_integer():\n",
    "    print(\"Number is not prime!\")\n",
    "elif inp_7.is_integer():\n",
    "    print(\"Number is not prime!\")\n",
    "else:\n",
    "    print(\"Number is prime!\")\n",
    "    \n",
    "#if int; has a prime divisor ad not prime\n",
    "#else prime"
   ]
  },
  {
   "cell_type": "code",
   "execution_count": null,
   "id": "fdb9a82b",
   "metadata": {},
   "outputs": [],
   "source": []
  }
 ],
 "metadata": {
  "kernelspec": {
   "display_name": "Python 3 (ipykernel)",
   "language": "python",
   "name": "python3"
  },
  "language_info": {
   "codemirror_mode": {
    "name": "ipython",
    "version": 3
   },
   "file_extension": ".py",
   "mimetype": "text/x-python",
   "name": "python",
   "nbconvert_exporter": "python",
   "pygments_lexer": "ipython3",
   "version": "3.10.12"
  }
 },
 "nbformat": 4,
 "nbformat_minor": 5
}
