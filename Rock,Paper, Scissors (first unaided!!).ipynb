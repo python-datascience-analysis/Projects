{
 "cells": [
  {
   "cell_type": "code",
   "execution_count": 12,
   "id": "1aaae672",
   "metadata": {},
   "outputs": [
    {
     "name": "stdout",
     "output_type": "stream",
     "text": [
      "Rock/Paper/Scissors?Scissors\n",
      "It's a draw!, The computer chose Scissors too\n"
     ]
    }
   ],
   "source": [
    "import random\n",
    "computer =[\"Rock\", \"Paper\", \"Scissors\"]\n",
    "computer_symbol = random.choice(computer)\n",
    "player1 = input(\"Rock/Paper/Scissors?\")\n",
    "\n",
    "if player1 == computer_symbol:\n",
    "        print(\"It's a draw!, The computer chose {} too\".format(computer_symbol))\n",
    "if player1 == \"Rock\" and computer_symbol == \"Paper\":\n",
    "        print(\"Computer wins, it chose Paper!\")    \n",
    "elif player1 == \"Rock\" and computer_symbol == \"Scissors\":\n",
    "        print(\"You win! The computer chose Scissors\")    \n",
    "\n",
    "\n",
    "if player1 == \"Paper\" and computer_symbol == \"Rock\":\n",
    "        print(\"You win! The computer chosse Rock\")\n",
    "elif player1 == \"Paper\" and computer_symbol == \"Scissocrs\":\n",
    "        print(\"Computer wins, it chose Scissors!\")\n",
    "\n",
    "    \n",
    "    \n",
    "\n",
    "if player1 == \"Scissors\" and computer_symbol == \"Rock\":\n",
    "        print(\"Computer wins, it chose Rock!\")\n",
    "elif player1 == \"Scissors\" and computer_symbol == \"Paper\":\n",
    "        print(\"You win! The computer chose Paper\")\n",
    "        \n",
    "\n",
    "    "
   ]
  },
  {
   "cell_type": "code",
   "execution_count": null,
   "id": "09f8486c",
   "metadata": {},
   "outputs": [],
   "source": []
  },
  {
   "cell_type": "code",
   "execution_count": null,
   "id": "5d8d459e",
   "metadata": {},
   "outputs": [],
   "source": []
  }
 ],
 "metadata": {
  "kernelspec": {
   "display_name": "Python 3 (ipykernel)",
   "language": "python",
   "name": "python3"
  },
  "language_info": {
   "codemirror_mode": {
    "name": "ipython",
    "version": 3
   },
   "file_extension": ".py",
   "mimetype": "text/x-python",
   "name": "python",
   "nbconvert_exporter": "python",
   "pygments_lexer": "ipython3",
   "version": "3.11.5"
  }
 },
 "nbformat": 4,
 "nbformat_minor": 5
}
