{
 "cells": [
  {
   "cell_type": "code",
   "execution_count": 39,
   "id": "0ff15405",
   "metadata": {},
   "outputs": [
    {
     "name": "stdout",
     "output_type": "stream",
     "text": [
      "Please enter a word pineapple\n",
      "ineapplepay\n"
     ]
    }
   ],
   "source": [
    "word = input(\"Please enter a word \")\n",
    "word1 = list(word)\n",
    "word3 =[]\n",
    "if word1[0] == \"a\" or word1[0] == \"e\" or word1[0] == \"i\" or word1[0] == \"o\" or word1[0] == \"u\":\n",
    "    print(word + \"way\")\n",
    "else: \n",
    "    word1.append(word1[0])\n",
    "    del word1[0]\n",
    "    word4 =''.join(word1)\n",
    "    print(word4 + \"ay\")\n",
    "    \n",
    "    "
   ]
  },
  {
   "cell_type": "code",
   "execution_count": null,
   "id": "0390ca28",
   "metadata": {},
   "outputs": [],
   "source": []
  }
 ],
 "metadata": {
  "kernelspec": {
   "display_name": "Python 3 (ipykernel)",
   "language": "python",
   "name": "python3"
  },
  "language_info": {
   "codemirror_mode": {
    "name": "ipython",
    "version": 3
   },
   "file_extension": ".py",
   "mimetype": "text/x-python",
   "name": "python",
   "nbconvert_exporter": "python",
   "pygments_lexer": "ipython3",
   "version": "3.10.12"
  }
 },
 "nbformat": 4,
 "nbformat_minor": 5
}
