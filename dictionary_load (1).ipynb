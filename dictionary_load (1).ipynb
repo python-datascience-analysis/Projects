{
 "cells": [
  {
   "cell_type": "code",
   "execution_count": null,
   "id": "bce0fe8b",
   "metadata": {},
   "outputs": [],
   "source": [
    "import sys\n",
    "\n",
    "def load(file):\n",
    "    try:\n",
    "        with open(file) as in_file:\n",
    "            loaded_txt = in_file_read().strip().split(\"\\n\")\n",
    "            loaded_txt = [x.lower() for x in loaded_txt]\n",
    "                return loaded_txt\n",
    "    except IOError as e:\n",
    "        print(\"{} Error opening {}. Terminating program. \".format(e,file), file = sys.stderr)\n",
    "        sys.exit(1)\n",
    "        \n",
    "#exemplar code for loading files and printing error messages   "
   ]
  },
  {
   "cell_type": "code",
   "execution_count": 3,
   "id": "4cee5e62",
   "metadata": {},
   "outputs": [
    {
     "name": "stdout",
     "output_type": "stream",
     "text": [
      "\n",
      "Number of palindromes found = 44\n",
      "\n",
      "ababa\n",
      "abba\n",
      "ada\n",
      "anna\n",
      "bib\n",
      "bob\n",
      "boob\n",
      "civic\n",
      "dad\n",
      "deed\n",
      "did\n",
      "dud\n",
      "eke\n",
      "ere\n",
      "eve\n",
      "ewe\n",
      "eye\n",
      "gag\n",
      "gig\n",
      "hannah\n",
      "huh\n",
      "level\n",
      "madam\n",
      "nan\n",
      "non\n",
      "noon\n",
      "nun\n",
      "otto\n",
      "peep\n",
      "pep\n",
      "pip\n",
      "pop\n",
      "pup\n",
      "radar\n",
      "redder\n",
      "refer\n",
      "reviver\n",
      "rotator\n",
      "rotor\n",
      "sees\n",
      "sexes\n",
      "solos\n",
      "sus\n",
      "tit\n"
     ]
    }
   ],
   "source": [
    "import load_dictionary # use module from https://github.com/rlvaugh/Impractical_Python_Projects/blob/master/Chapter_2/load_dictionary.py\n",
    "word_list = load_dictionary.load('dictionary.txt') #load file ('dictionary.txt') into a dictionary\n",
    "palindromes = [] # empty list\n",
    "\n",
    "\n",
    "for word in word_list: #cycle through dictionary\n",
    "    if len(word) > 1 and word == word [::-1]: #if word is same forward and backwards // slicing used to go through word backwards\n",
    "        palindromes.append(word) # add to word list\n",
    "print(\"\\nNumber of palindromes found = {}\\n\".format(len(palindromes))) \n",
    "print(*palindromes, sep='\\n')  #print statement gives cleaner formatting "
   ]
  },
  {
   "cell_type": "code",
   "execution_count": null,
   "id": "30d22862",
   "metadata": {},
   "outputs": [],
   "source": []
  }
 ],
 "metadata": {
  "kernelspec": {
   "display_name": "Python 3 (ipykernel)",
   "language": "python",
   "name": "python3"
  },
  "language_info": {
   "codemirror_mode": {
    "name": "ipython",
    "version": 3
   },
   "file_extension": ".py",
   "mimetype": "text/x-python",
   "name": "python",
   "nbconvert_exporter": "python",
   "pygments_lexer": "ipython3",
   "version": "3.10.12"
  }
 },
 "nbformat": 4,
 "nbformat_minor": 5
}
