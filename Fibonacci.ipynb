{
 "cells": [
  {
   "cell_type": "code",
   "execution_count": 1,
   "id": "d22c6dfe",
   "metadata": {},
   "outputs": [],
   "source": [
    "def fibonacci_iterative(x):\n",
    "    lst = [1, 1]\n",
    "    for i in range(2,x):\n",
    "        lst.append(i)\n",
    "    for i in range(2,x):\n",
    "        lst[i] = lst[i-2] + lst[i-1]\n",
    "    print(lst[x-1])  "
   ]
  },
  {
   "cell_type": "code",
   "execution_count": 2,
   "id": "ceb77c23",
   "metadata": {},
   "outputs": [
    {
     "name": "stdout",
     "output_type": "stream",
     "text": [
      "55\n"
     ]
    }
   ],
   "source": [
    "fibonacci_iterative(10)"
   ]
  },
  {
   "cell_type": "code",
   "execution_count": null,
   "id": "4ca25b21",
   "metadata": {},
   "outputs": [],
   "source": []
  }
 ],
 "metadata": {
  "kernelspec": {
   "display_name": "Python 3 (ipykernel)",
   "language": "python",
   "name": "python3"
  },
  "language_info": {
   "codemirror_mode": {
    "name": "ipython",
    "version": 3
   },
   "file_extension": ".py",
   "mimetype": "text/x-python",
   "name": "python",
   "nbconvert_exporter": "python",
   "pygments_lexer": "ipython3",
   "version": "3.10.12"
  }
 },
 "nbformat": 4,
 "nbformat_minor": 5
}
