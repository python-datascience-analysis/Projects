{
 "cells": [
  {
   "cell_type": "code",
   "execution_count": null,
   "id": "028bccc2",
   "metadata": {},
   "outputs": [],
   "source": [
    "path = Path('pi_million_digits.txt') # load text file in with Path\n",
    "\n",
    "contents = path.read_text() #read and assign to variable\n",
    "\n",
    "lines = contents.splitlines() #take seperate rows and put them on the same line\n",
    "\n",
    "pi_string = '' #make an empty string\n",
    "\n",
    "for line in lines:\n",
    "    pi_string+= line.lstrip()  #for each (previously row) add it to the empty string\n",
    "    \n",
    "birthday = input(\"Enter your birthday in format mmddyy  : \")    #user input\n",
    "if birthday in pi_string:   #test\n",
    "    print(\"Your birthday appears in the first million digits of pi\")\n",
    "    x = pi_string.index(birthday) #find position in pi\n",
    "    print(\"Your birthday is at position {}\".format(x)) # print statement\n",
    "else:\n",
    "    print(\"Your birthday isn't!!\") #   :("
   ]
  }
 ],
 "metadata": {
  "kernelspec": {
   "display_name": "Python 3 (ipykernel)",
   "language": "python",
   "name": "python3"
  },
  "language_info": {
   "codemirror_mode": {
    "name": "ipython",
    "version": 3
   },
   "file_extension": ".py",
   "mimetype": "text/x-python",
   "name": "python",
   "nbconvert_exporter": "python",
   "pygments_lexer": "ipython3",
   "version": "3.11.5"
  }
 },
 "nbformat": 4,
 "nbformat_minor": 5
}
