{
 "cells": [
  {
   "cell_type": "code",
   "execution_count": 44,
   "id": "afc8d27e",
   "metadata": {},
   "outputs": [
    {
     "name": "stdout",
     "output_type": "stream",
     "text": [
      "Please enter a word eugeine\n",
      "eugeineway\n"
     ]
    }
   ],
   "source": [
    "word = input(\"Please enter a word \") # ask for input\n",
    "word1 = list(word) # convert input to list\n",
    "\n",
    "if word1[0] == \"a\" or word1[0] == \"e\" or word1[0] == \"i\" or word1[0] == \"o\" or word1[0] == \"u\": #check first item in list\n",
    "    print(word + \"way\") # if match print statement\n",
    "#left with const.\n",
    "else: \n",
    "    word1.append(word1[0]) # add first letter to end\n",
    "    del word1[0] # remove const.\n",
    "    word2 =''.join(word1) # convert list to str type\n",
    "    print(word2 + \"ay\")\n",
    "\n",
    "    "
   ]
  },
  {
   "cell_type": "code",
   "execution_count": 46,
   "id": "7f4f2203",
   "metadata": {},
   "outputs": [
    {
     "name": "stdout",
     "output_type": "stream",
     "text": [
      "ass\n",
      "asspay\n"
     ]
    }
   ],
   "source": [
    "word = \"pass\"\n",
    "pig_Latin = word[1:] + word[0] + 'ay'\n",
    "print(word[1:])\n",
    "print(pig_Latin)"
   ]
  },
  {
   "cell_type": "code",
   "execution_count": null,
   "id": "11c52ef8",
   "metadata": {},
   "outputs": [],
   "source": []
  }
 ],
 "metadata": {
  "kernelspec": {
   "display_name": "Python 3 (ipykernel)",
   "language": "python",
   "name": "python3"
  },
  "language_info": {
   "codemirror_mode": {
    "name": "ipython",
    "version": 3
   },
   "file_extension": ".py",
   "mimetype": "text/x-python",
   "name": "python",
   "nbconvert_exporter": "python",
   "pygments_lexer": "ipython3",
   "version": "3.10.12"
  }
 },
 "nbformat": 4,
 "nbformat_minor": 5
}
