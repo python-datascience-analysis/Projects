{
 "cells": [
  {
   "cell_type": "code",
   "execution_count": null,
   "id": "a4eb9362",
   "metadata": {},
   "outputs": [],
   "source": [
    "input_words = [] # create a dictionary\n",
    "\n",
    "print(\"Enter 5 words\")\n",
    "\n",
    "print(\"The game board: \") #gameboard\n",
    "print(\"The cat sat on a ______\")\n",
    "print(\"The cat sat on a ______\")\n",
    "print(\"The cat sat on a ______\")\n",
    "print(\"The cat sat on a ______\")\n",
    "print(\"The cat sat on a ______\")\n",
    "\n",
    "for x in range(5): #loop for number of letters\n",
    "    added_words = input(\"Enter a word to add!\") # get word\n",
    "    added = input_words.append(added_words) # append word to dictionary\n",
    "    print(input_words)\n",
    "input_words\n",
    "\n",
    "#output\n",
    "print(\"The cat sat on a {}\".format(input_words[0]))\n",
    "print(\"The cat sat on a {}\".format(input_words[1]))\n",
    "print(\"The cat sat on a {}\".format(input_words[2]))\n",
    "print(\"The cat sat on a {}\".format(input_words[3]))\n",
    "print(\"The cat sat on a {}\".format(input_words[4]))\n",
    "\n",
    "\n",
    "#can update size and gameboard"
   ]
  },
  {
   "cell_type": "code",
   "execution_count": null,
   "id": "cef097b8",
   "metadata": {},
   "outputs": [],
   "source": [
    "noun1 = input(\"Enter a noun \")   #gamewords\n",
    "noun2 = input(\"Enter a noun \")\n",
    "adjective = input(\"Enter an adjective \")\n",
    "place = input(\"Enter a place \")\n",
    "time = input(\"Enter a time \")\n",
    "\n",
    "#story\n",
    "story = (\"When the cat found the \" + noun1 + \" it used it to open a \" + noun2 + \". The \" + noun2 +\" was very \" + adjective +\n",
    "         \". Written on the back was made in \" + place + \". The date said: \" + time)\n",
    "\n",
    "print(story) # print story with inputs\n",
    "\n",
    "#can be updated"
   ]
  },
  {
   "cell_type": "code",
   "execution_count": null,
   "id": "1abe6dc7",
   "metadata": {},
   "outputs": [],
   "source": []
  }
 ],
 "metadata": {
  "kernelspec": {
   "display_name": "Python 3 (ipykernel)",
   "language": "python",
   "name": "python3"
  },
  "language_info": {
   "codemirror_mode": {
    "name": "ipython",
    "version": 3
   },
   "file_extension": ".py",
   "mimetype": "text/x-python",
   "name": "python",
   "nbconvert_exporter": "python",
   "pygments_lexer": "ipython3",
   "version": "3.10.12"
  }
 },
 "nbformat": 4,
 "nbformat_minor": 5
}
