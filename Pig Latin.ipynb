{
 "cells": [
  {
   "cell_type": "code",
   "execution_count": null,
   "id": "32713616",
   "metadata": {},
   "outputs": [],
   "source": [
    "word = input(\"Enter your word to be changed to Pig Latin!\") #request user input\n",
    "word = str(word).lower() #change input to a string and make it lowercase\n",
    "\n",
    "if word[0] in [\"a\", \"e\", \"i\", \"o\", \"u\"]: #find if first letter is a vowel\n",
    "    output = word + \"yay\" #add \"yay\"\n",
    "    print(output)\n",
    "else: #if the first letter is not a vowel\n",
    "    for i in range(len(word)): #go through each letter in the word\n",
    "        if word[i] in [\"a\", \"e\", \"i\", \"o\", \"u\"]: #if the given letter is a vowel\n",
    "            firstpart = word[0:i] #construct the fist part by slicing from the start of the word upto the first vowel\n",
    "            secondpart = word[i: ] #construct the second part by slicing from the first vowel to the end of the word\n",
    "            output = second_part + firstpart + \"ay\" #concatenate\n",
    "            break #break so an output is given\n",
    "print(output)"
   ]
  }
 ],
 "metadata": {
  "kernelspec": {
   "display_name": "Python 3 (ipykernel)",
   "language": "python",
   "name": "python3"
  },
  "language_info": {
   "codemirror_mode": {
    "name": "ipython",
    "version": 3
   },
   "file_extension": ".py",
   "mimetype": "text/x-python",
   "name": "python",
   "nbconvert_exporter": "python",
   "pygments_lexer": "ipython3",
   "version": "3.11.5"
  }
 },
 "nbformat": 4,
 "nbformat_minor": 5
}
