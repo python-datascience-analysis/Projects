{
 "cells": [
  {
   "cell_type": "code",
   "execution_count": 31,
   "id": "406dba88",
   "metadata": {},
   "outputs": [],
   "source": [
    "import random #import random library\n",
    "comp_num =random.randint(1, 100) # computer geneerates a random integer between 1 and 100\n",
    "\n",
    "def guess_prompt():\n",
    "    \n",
    "    guess = input(\"Guess a number between 1 and 100: \") # input\n",
    "    \n",
    "    if int(guess) == comp_num:\n",
    "        print(\"Correct! The number is {}\".format(comp_num))\n",
    "        return\n",
    "    \n",
    "    elif int(guess) < comp_num:\n",
    "        print(\"The number is bigger than this\")\n",
    "        guess_prompt() # recalls the function inside of the function, same for other elif\n",
    "    elif int(guess) > comp_num:\n",
    "        print(\"The number is smaller than this\")\n",
    "        guess_prompt()\n",
    "\n",
    "    "
   ]
  },
  {
   "cell_type": "code",
   "execution_count": 32,
   "id": "e20ae412",
   "metadata": {},
   "outputs": [
    {
     "name": "stdout",
     "output_type": "stream",
     "text": [
      "Guess a number between 1 and 100: 45\n",
      "The number is bigger than this\n",
      "Guess a number between 1 and 100: 78\n",
      "The number is bigger than this\n",
      "Guess a number between 1 and 100: 90\n",
      "The number is bigger than this\n",
      "Guess a number between 1 and 100: 95\n",
      "The number is smaller than this\n",
      "Guess a number between 1 and 100: 93\n",
      "The number is smaller than this\n",
      "Guess a number between 1 and 100: 92\n",
      "Correct! The number is 92\n"
     ]
    }
   ],
   "source": [
    "guess_prompt() # run this to play, once the first program has been run\n"
   ]
  },
  {
   "cell_type": "code",
   "execution_count": null,
   "id": "748cf48d",
   "metadata": {},
   "outputs": [],
   "source": []
  }
 ],
 "metadata": {
  "kernelspec": {
   "display_name": "Python 3 (ipykernel)",
   "language": "python",
   "name": "python3"
  },
  "language_info": {
   "codemirror_mode": {
    "name": "ipython",
    "version": 3
   },
   "file_extension": ".py",
   "mimetype": "text/x-python",
   "name": "python",
   "nbconvert_exporter": "python",
   "pygments_lexer": "ipython3",
   "version": "3.10.12"
  }
 },
 "nbformat": 4,
 "nbformat_minor": 5
}
